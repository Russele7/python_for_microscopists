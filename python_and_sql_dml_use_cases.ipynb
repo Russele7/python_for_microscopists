{
  "nbformat": 4,
  "nbformat_minor": 0,
  "metadata": {
    "colab": {
      "name": "python_and_sql_dml_use_cases",
      "provenance": [],
      "collapsed_sections": [],
      "toc_visible": true,
      "include_colab_link": true
    },
    "kernelspec": {
      "name": "python3",
      "display_name": "Python 3"
    }
  },
  "cells": [
    {
      "cell_type": "markdown",
      "metadata": {
        "id": "view-in-github",
        "colab_type": "text"
      },
      "source": [
        "<a href=\"https://colab.research.google.com/github/Russele7/python_for_microscopists/blob/master/python_and_sql_dml_use_cases.ipynb\" target=\"_parent\"><img src=\"https://colab.research.google.com/assets/colab-badge.svg\" alt=\"Open In Colab\"/></a>"
      ]
    },
    {
      "cell_type": "code",
      "metadata": {
        "id": "aqZPo_BANMfY",
        "colab_type": "code",
        "colab": {}
      },
      "source": [
        "import pandas as pd\n",
        "import seaborn as sns\n",
        "\n",
        "import sqlite3"
      ],
      "execution_count": 0,
      "outputs": []
    },
    {
      "cell_type": "code",
      "metadata": {
        "id": "lgomdEcENjmQ",
        "colab_type": "code",
        "colab": {}
      },
      "source": [
        "titanic = sns.load_dataset(\"titanic\")"
      ],
      "execution_count": 0,
      "outputs": []
    },
    {
      "cell_type": "code",
      "metadata": {
        "id": "wGSeCHTmdmaT",
        "colab_type": "code",
        "outputId": "f6707ebf-256a-460b-fc18-5b4cf637535e",
        "colab": {
          "base_uri": "https://localhost:8080/",
          "height": 383
        }
      },
      "source": [
        "sns.get_dataset_names()"
      ],
      "execution_count": 0,
      "outputs": [
        {
          "output_type": "stream",
          "text": [
            "/usr/local/lib/python3.6/dist-packages/seaborn/utils.py:384: UserWarning: No parser was explicitly specified, so I'm using the best available HTML parser for this system (\"lxml\"). This usually isn't a problem, but if you run this code on another system, or in a different virtual environment, it may use a different parser and behave differently.\n",
            "\n",
            "The code that caused this warning is on line 384 of the file /usr/local/lib/python3.6/dist-packages/seaborn/utils.py. To get rid of this warning, pass the additional argument 'features=\"lxml\"' to the BeautifulSoup constructor.\n",
            "\n",
            "  gh_list = BeautifulSoup(http)\n"
          ],
          "name": "stderr"
        },
        {
          "output_type": "execute_result",
          "data": {
            "text/plain": [
              "['anscombe',\n",
              " 'attention',\n",
              " 'brain_networks',\n",
              " 'car_crashes',\n",
              " 'diamonds',\n",
              " 'dots',\n",
              " 'exercise',\n",
              " 'flights',\n",
              " 'fmri',\n",
              " 'gammas',\n",
              " 'iris',\n",
              " 'mpg',\n",
              " 'planets',\n",
              " 'tips',\n",
              " 'titanic']"
            ]
          },
          "metadata": {
            "tags": []
          },
          "execution_count": 29
        }
      ]
    },
    {
      "cell_type": "code",
      "metadata": {
        "id": "_KOlyKtMNxUy",
        "colab_type": "code",
        "outputId": "ca5afc0a-763f-46bf-d416-2bdc23ce2b8d",
        "colab": {
          "base_uri": "https://localhost:8080/",
          "height": 198
        }
      },
      "source": [
        "titanic.head()"
      ],
      "execution_count": 0,
      "outputs": [
        {
          "output_type": "execute_result",
          "data": {
            "text/html": [
              "<div>\n",
              "<style scoped>\n",
              "    .dataframe tbody tr th:only-of-type {\n",
              "        vertical-align: middle;\n",
              "    }\n",
              "\n",
              "    .dataframe tbody tr th {\n",
              "        vertical-align: top;\n",
              "    }\n",
              "\n",
              "    .dataframe thead th {\n",
              "        text-align: right;\n",
              "    }\n",
              "</style>\n",
              "<table border=\"1\" class=\"dataframe\">\n",
              "  <thead>\n",
              "    <tr style=\"text-align: right;\">\n",
              "      <th></th>\n",
              "      <th>survived</th>\n",
              "      <th>pclass</th>\n",
              "      <th>sex</th>\n",
              "      <th>age</th>\n",
              "      <th>sibsp</th>\n",
              "      <th>parch</th>\n",
              "      <th>fare</th>\n",
              "      <th>embarked</th>\n",
              "      <th>class</th>\n",
              "      <th>who</th>\n",
              "      <th>adult_male</th>\n",
              "      <th>deck</th>\n",
              "      <th>embark_town</th>\n",
              "      <th>alive</th>\n",
              "      <th>alone</th>\n",
              "    </tr>\n",
              "  </thead>\n",
              "  <tbody>\n",
              "    <tr>\n",
              "      <th>0</th>\n",
              "      <td>0</td>\n",
              "      <td>3</td>\n",
              "      <td>male</td>\n",
              "      <td>22.0</td>\n",
              "      <td>1</td>\n",
              "      <td>0</td>\n",
              "      <td>7.2500</td>\n",
              "      <td>S</td>\n",
              "      <td>Third</td>\n",
              "      <td>man</td>\n",
              "      <td>True</td>\n",
              "      <td>NaN</td>\n",
              "      <td>Southampton</td>\n",
              "      <td>no</td>\n",
              "      <td>False</td>\n",
              "    </tr>\n",
              "    <tr>\n",
              "      <th>1</th>\n",
              "      <td>1</td>\n",
              "      <td>1</td>\n",
              "      <td>female</td>\n",
              "      <td>38.0</td>\n",
              "      <td>1</td>\n",
              "      <td>0</td>\n",
              "      <td>71.2833</td>\n",
              "      <td>C</td>\n",
              "      <td>First</td>\n",
              "      <td>woman</td>\n",
              "      <td>False</td>\n",
              "      <td>C</td>\n",
              "      <td>Cherbourg</td>\n",
              "      <td>yes</td>\n",
              "      <td>False</td>\n",
              "    </tr>\n",
              "    <tr>\n",
              "      <th>2</th>\n",
              "      <td>1</td>\n",
              "      <td>3</td>\n",
              "      <td>female</td>\n",
              "      <td>26.0</td>\n",
              "      <td>0</td>\n",
              "      <td>0</td>\n",
              "      <td>7.9250</td>\n",
              "      <td>S</td>\n",
              "      <td>Third</td>\n",
              "      <td>woman</td>\n",
              "      <td>False</td>\n",
              "      <td>NaN</td>\n",
              "      <td>Southampton</td>\n",
              "      <td>yes</td>\n",
              "      <td>True</td>\n",
              "    </tr>\n",
              "    <tr>\n",
              "      <th>3</th>\n",
              "      <td>1</td>\n",
              "      <td>1</td>\n",
              "      <td>female</td>\n",
              "      <td>35.0</td>\n",
              "      <td>1</td>\n",
              "      <td>0</td>\n",
              "      <td>53.1000</td>\n",
              "      <td>S</td>\n",
              "      <td>First</td>\n",
              "      <td>woman</td>\n",
              "      <td>False</td>\n",
              "      <td>C</td>\n",
              "      <td>Southampton</td>\n",
              "      <td>yes</td>\n",
              "      <td>False</td>\n",
              "    </tr>\n",
              "    <tr>\n",
              "      <th>4</th>\n",
              "      <td>0</td>\n",
              "      <td>3</td>\n",
              "      <td>male</td>\n",
              "      <td>35.0</td>\n",
              "      <td>0</td>\n",
              "      <td>0</td>\n",
              "      <td>8.0500</td>\n",
              "      <td>S</td>\n",
              "      <td>Third</td>\n",
              "      <td>man</td>\n",
              "      <td>True</td>\n",
              "      <td>NaN</td>\n",
              "      <td>Southampton</td>\n",
              "      <td>no</td>\n",
              "      <td>True</td>\n",
              "    </tr>\n",
              "  </tbody>\n",
              "</table>\n",
              "</div>"
            ],
            "text/plain": [
              "   survived  pclass     sex   age  ...  deck  embark_town  alive  alone\n",
              "0         0       3    male  22.0  ...   NaN  Southampton     no  False\n",
              "1         1       1  female  38.0  ...     C    Cherbourg    yes  False\n",
              "2         1       3  female  26.0  ...   NaN  Southampton    yes   True\n",
              "3         1       1  female  35.0  ...     C  Southampton    yes  False\n",
              "4         0       3    male  35.0  ...   NaN  Southampton     no   True\n",
              "\n",
              "[5 rows x 15 columns]"
            ]
          },
          "metadata": {
            "tags": []
          },
          "execution_count": 27
        }
      ]
    },
    {
      "cell_type": "code",
      "metadata": {
        "id": "ssSUmyl6d4Ls",
        "colab_type": "code",
        "outputId": "6a5734cc-8fee-4d23-d28a-f402142d39f0",
        "colab": {
          "base_uri": "https://localhost:8080/",
          "height": 86
        }
      },
      "source": [
        "titanic[\"who\"].value_counts()"
      ],
      "execution_count": 0,
      "outputs": [
        {
          "output_type": "execute_result",
          "data": {
            "text/plain": [
              "man      537\n",
              "woman    271\n",
              "child     83\n",
              "Name: who, dtype: int64"
            ]
          },
          "metadata": {
            "tags": []
          },
          "execution_count": 30
        }
      ]
    },
    {
      "cell_type": "code",
      "metadata": {
        "id": "Uvh_hAm3d9nd",
        "colab_type": "code",
        "outputId": "5b79c69b-9716-4171-bdb1-4e52cdc98083",
        "colab": {
          "base_uri": "https://localhost:8080/",
          "height": 69
        }
      },
      "source": [
        "titanic[\"sex\"].value_counts()"
      ],
      "execution_count": 0,
      "outputs": [
        {
          "output_type": "execute_result",
          "data": {
            "text/plain": [
              "male      577\n",
              "female    314\n",
              "Name: sex, dtype: int64"
            ]
          },
          "metadata": {
            "tags": []
          },
          "execution_count": 31
        }
      ]
    },
    {
      "cell_type": "code",
      "metadata": {
        "id": "Vt2QzYePOCXT",
        "colab_type": "code",
        "colab": {}
      },
      "source": [
        "conn = sqlite3.connect('example.db')"
      ],
      "execution_count": 0,
      "outputs": []
    },
    {
      "cell_type": "code",
      "metadata": {
        "id": "o0fVFzJQOc-n",
        "colab_type": "code",
        "colab": {}
      },
      "source": [
        "titanic.to_sql(\"titanic\", conn)"
      ],
      "execution_count": 0,
      "outputs": []
    },
    {
      "cell_type": "code",
      "metadata": {
        "id": "_aD1EnnxePPJ",
        "colab_type": "code",
        "colab": {}
      },
      "source": [
        "titanic.to_sql()"
      ],
      "execution_count": 0,
      "outputs": []
    },
    {
      "cell_type": "markdown",
      "metadata": {
        "id": "jgjXKHguOydF",
        "colab_type": "text"
      },
      "source": [
        "# Вариант №1\n",
        "1. Пишем SQL выражение\n",
        "2. Загружаем данные из таблицы"
      ]
    },
    {
      "cell_type": "code",
      "metadata": {
        "id": "LucSSC2xOxKw",
        "colab_type": "code",
        "colab": {}
      },
      "source": [
        "sql_statement = \"\"\"SELECT\n",
        "  sex\n",
        ", AVG(age) AS age_mean\n",
        ", SUM(survived) AS survived\n",
        "FROM titanic\n",
        "WHERE age > 10\n",
        "GROUP BY sex\n",
        "\"\"\"\n",
        "\n",
        "titanic_stat = pd.read_sql(sql_statement, conn)"
      ],
      "execution_count": 0,
      "outputs": []
    },
    {
      "cell_type": "code",
      "metadata": {
        "id": "nv2aOJWIPgFi",
        "colab_type": "code",
        "outputId": "f5fb3c1d-c456-4319-a146-d8caa49204cc",
        "colab": {
          "base_uri": "https://localhost:8080/",
          "height": 108
        }
      },
      "source": [
        "titanic_stat.head()"
      ],
      "execution_count": 0,
      "outputs": [
        {
          "output_type": "execute_result",
          "data": {
            "text/html": [
              "<div>\n",
              "<style scoped>\n",
              "    .dataframe tbody tr th:only-of-type {\n",
              "        vertical-align: middle;\n",
              "    }\n",
              "\n",
              "    .dataframe tbody tr th {\n",
              "        vertical-align: top;\n",
              "    }\n",
              "\n",
              "    .dataframe thead th {\n",
              "        text-align: right;\n",
              "    }\n",
              "</style>\n",
              "<table border=\"1\" class=\"dataframe\">\n",
              "  <thead>\n",
              "    <tr style=\"text-align: right;\">\n",
              "      <th></th>\n",
              "      <th>sex</th>\n",
              "      <th>age_mean</th>\n",
              "      <th>survived</th>\n",
              "    </tr>\n",
              "  </thead>\n",
              "  <tbody>\n",
              "    <tr>\n",
              "      <th>0</th>\n",
              "      <td>female</td>\n",
              "      <td>31.058696</td>\n",
              "      <td>178</td>\n",
              "    </tr>\n",
              "    <tr>\n",
              "      <th>1</th>\n",
              "      <td>male</td>\n",
              "      <td>32.829762</td>\n",
              "      <td>74</td>\n",
              "    </tr>\n",
              "  </tbody>\n",
              "</table>\n",
              "</div>"
            ],
            "text/plain": [
              "      sex   age_mean  survived\n",
              "0  female  31.058696       178\n",
              "1    male  32.829762        74"
            ]
          },
          "metadata": {
            "tags": []
          },
          "execution_count": 36
        }
      ]
    },
    {
      "cell_type": "markdown",
      "metadata": {
        "id": "8Znwm4rlPztz",
        "colab_type": "text"
      },
      "source": [
        "# Вариант №2\n",
        "Для повторяющихся кейсов, лучше всего будет автоматизировать такие операции и создать функцию.\n"
      ]
    },
    {
      "cell_type": "code",
      "metadata": {
        "id": "iRh_iBt2QCHF",
        "colab_type": "code",
        "colab": {}
      },
      "source": [
        "def get_titanic_stat(by=\"sex\", age=10):\n",
        "  \"\"\"Get statistics from titanic\n",
        "\n",
        "  Args:\n",
        "    sex\n",
        "    age\n",
        "  \n",
        "  Returns:\n",
        "    \n",
        "  \"\"\"\n",
        "  sql_template = \"\"\"SELECT\n",
        "  {0}\n",
        ", AVG(age) AS age_mean\n",
        ", SUM(survived) AS survived\n",
        "FROM titanic\n",
        "WHERE age > {1}\n",
        "GROUP BY {0}\n",
        "\"\"\"\n",
        "  return pd.read_sql(\n",
        "      sql_template.format(by, age),\n",
        "      conn\n",
        "  )"
      ],
      "execution_count": 0,
      "outputs": []
    },
    {
      "cell_type": "code",
      "metadata": {
        "id": "PzQiBxl1kXsV",
        "colab_type": "code",
        "colab": {}
      },
      "source": [
        "import datetime"
      ],
      "execution_count": 0,
      "outputs": []
    },
    {
      "cell_type": "code",
      "metadata": {
        "id": "Ke23RSKbkRHu",
        "colab_type": "code",
        "outputId": "96a63407-3f48-4018-df97-a99517e437a8",
        "colab": {
          "base_uri": "https://localhost:8080/",
          "height": 34
        }
      },
      "source": [
        "test_string = \"time: {0}\"\n",
        "test_string.format(datetime.datetime.now())"
      ],
      "execution_count": 0,
      "outputs": [
        {
          "output_type": "execute_result",
          "data": {
            "text/plain": [
              "'time: 2020-05-23 08:06:43.318513'"
            ]
          },
          "metadata": {
            "tags": []
          },
          "execution_count": 39
        }
      ]
    },
    {
      "cell_type": "code",
      "metadata": {
        "id": "tp38T10MkohX",
        "colab_type": "code",
        "outputId": "ee1fba81-da5d-442c-cfc3-433694bbbe76",
        "colab": {
          "base_uri": "https://localhost:8080/",
          "height": 34
        }
      },
      "source": [
        "test_string = \"time: {time}\"\n",
        "test_string.format(time=datetime.datetime.now())"
      ],
      "execution_count": 0,
      "outputs": [
        {
          "output_type": "execute_result",
          "data": {
            "text/plain": [
              "'time: 2020-05-23 08:07:53.184747'"
            ]
          },
          "metadata": {
            "tags": []
          },
          "execution_count": 40
        }
      ]
    },
    {
      "cell_type": "code",
      "metadata": {
        "id": "SBFjOxKkkw7i",
        "colab_type": "code",
        "outputId": "0aa794f4-8e13-434b-b501-c6dbae626564",
        "colab": {
          "base_uri": "https://localhost:8080/",
          "height": 34
        }
      },
      "source": [
        "time = datetime.datetime.now()\n",
        "\n",
        "test_string = f\"time: {time}\"\n",
        "test_string"
      ],
      "execution_count": 0,
      "outputs": [
        {
          "output_type": "execute_result",
          "data": {
            "text/plain": [
              "'time: 2020-05-23 08:08:46.270600'"
            ]
          },
          "metadata": {
            "tags": []
          },
          "execution_count": 42
        }
      ]
    },
    {
      "cell_type": "code",
      "metadata": {
        "id": "RkA8jHGWQnoo",
        "colab_type": "code",
        "colab": {}
      },
      "source": [
        "titanic_stat = get_titanic_stat(\"pclass\", 10)"
      ],
      "execution_count": 0,
      "outputs": []
    },
    {
      "cell_type": "code",
      "metadata": {
        "id": "43mU8oo1Q5Xa",
        "colab_type": "code",
        "outputId": "c7366e33-ac7c-429f-c96f-6c6fb7e3b6d2",
        "colab": {
          "base_uri": "https://localhost:8080/",
          "height": 138
        }
      },
      "source": [
        "titanic_stat.head()"
      ],
      "execution_count": 0,
      "outputs": [
        {
          "output_type": "execute_result",
          "data": {
            "text/html": [
              "<div>\n",
              "<style scoped>\n",
              "    .dataframe tbody tr th:only-of-type {\n",
              "        vertical-align: middle;\n",
              "    }\n",
              "\n",
              "    .dataframe tbody tr th {\n",
              "        vertical-align: top;\n",
              "    }\n",
              "\n",
              "    .dataframe thead th {\n",
              "        text-align: right;\n",
              "    }\n",
              "</style>\n",
              "<table border=\"1\" class=\"dataframe\">\n",
              "  <thead>\n",
              "    <tr style=\"text-align: right;\">\n",
              "      <th></th>\n",
              "      <th>pclass</th>\n",
              "      <th>age_mean</th>\n",
              "      <th>survived</th>\n",
              "    </tr>\n",
              "  </thead>\n",
              "  <tbody>\n",
              "    <tr>\n",
              "      <th>0</th>\n",
              "      <td>1</td>\n",
              "      <td>38.822404</td>\n",
              "      <td>120</td>\n",
              "    </tr>\n",
              "    <tr>\n",
              "      <th>1</th>\n",
              "      <td>2</td>\n",
              "      <td>32.753205</td>\n",
              "      <td>66</td>\n",
              "    </tr>\n",
              "    <tr>\n",
              "      <th>2</th>\n",
              "      <td>3</td>\n",
              "      <td>28.032154</td>\n",
              "      <td>66</td>\n",
              "    </tr>\n",
              "  </tbody>\n",
              "</table>\n",
              "</div>"
            ],
            "text/plain": [
              "   pclass   age_mean  survived\n",
              "0       1  38.822404       120\n",
              "1       2  32.753205        66\n",
              "2       3  28.032154        66"
            ]
          },
          "metadata": {
            "tags": []
          },
          "execution_count": 44
        }
      ]
    },
    {
      "cell_type": "markdown",
      "metadata": {
        "id": "SLHaqF5FSACs",
        "colab_type": "text"
      },
      "source": [
        "# Вариант №3\n",
        "Обратите внимание, что мы можем передать аргументы (в нашем случае это _age_) не только с помощью строкового форматирования, а с помощью аргумента params. Это называется передать параметры (bind params)."
      ]
    },
    {
      "cell_type": "code",
      "metadata": {
        "id": "86-_Vb4dRF1n",
        "colab_type": "code",
        "colab": {}
      },
      "source": [
        "def get_titanic_stat(by=\"sex\", age=10):\n",
        "  sql_template = \"\"\"SELECT\n",
        "  {0}\n",
        ", AVG(age) AS age_mean\n",
        ", SUM(survived) AS survived\n",
        "FROM titanic\n",
        "WHERE age > :age\n",
        "GROUP BY {0}\n",
        "\"\"\"\n",
        "  return pd.read_sql(\n",
        "      sql_template.format(by),\n",
        "      conn,\n",
        "      params={\"age\": age}\n",
        "  )"
      ],
      "execution_count": 0,
      "outputs": []
    },
    {
      "cell_type": "code",
      "metadata": {
        "id": "AoJbUPzDRefQ",
        "colab_type": "code",
        "colab": {}
      },
      "source": [
        "titanic_stat = get_titanic_stat(\"pclass\", 10)"
      ],
      "execution_count": 0,
      "outputs": []
    },
    {
      "cell_type": "code",
      "metadata": {
        "id": "9pqbqkeaRgf-",
        "colab_type": "code",
        "outputId": "b27d8947-460c-4a0b-a91b-2f204f9c8812",
        "colab": {
          "base_uri": "https://localhost:8080/",
          "height": 138
        }
      },
      "source": [
        "titanic_stat.head()"
      ],
      "execution_count": 0,
      "outputs": [
        {
          "output_type": "execute_result",
          "data": {
            "text/html": [
              "<div>\n",
              "<style scoped>\n",
              "    .dataframe tbody tr th:only-of-type {\n",
              "        vertical-align: middle;\n",
              "    }\n",
              "\n",
              "    .dataframe tbody tr th {\n",
              "        vertical-align: top;\n",
              "    }\n",
              "\n",
              "    .dataframe thead th {\n",
              "        text-align: right;\n",
              "    }\n",
              "</style>\n",
              "<table border=\"1\" class=\"dataframe\">\n",
              "  <thead>\n",
              "    <tr style=\"text-align: right;\">\n",
              "      <th></th>\n",
              "      <th>pclass</th>\n",
              "      <th>age_mean</th>\n",
              "      <th>survived</th>\n",
              "    </tr>\n",
              "  </thead>\n",
              "  <tbody>\n",
              "    <tr>\n",
              "      <th>0</th>\n",
              "      <td>1</td>\n",
              "      <td>38.822404</td>\n",
              "      <td>120</td>\n",
              "    </tr>\n",
              "    <tr>\n",
              "      <th>1</th>\n",
              "      <td>2</td>\n",
              "      <td>32.753205</td>\n",
              "      <td>66</td>\n",
              "    </tr>\n",
              "    <tr>\n",
              "      <th>2</th>\n",
              "      <td>3</td>\n",
              "      <td>28.032154</td>\n",
              "      <td>66</td>\n",
              "    </tr>\n",
              "  </tbody>\n",
              "</table>\n",
              "</div>"
            ],
            "text/plain": [
              "   pclass   age_mean  survived\n",
              "0       1  38.822404       120\n",
              "1       2  32.753205        66\n",
              "2       3  28.032154        66"
            ]
          },
          "metadata": {
            "tags": []
          },
          "execution_count": 46
        }
      ]
    },
    {
      "cell_type": "markdown",
      "metadata": {
        "id": "g9ojyEjQSd5_",
        "colab_type": "text"
      },
      "source": [
        "# Вариант №4\n",
        "Описать таблицы как Объекты и обращаться с ними как с объектом Python. Для этого я использую ORM SQLAlchemy\n",
        "\n",
        "__Здесь заранее извиняюсь__ - код, который отлично работает в Oracle с примером на SQLite у меня отказывается работать, поэтому пример немного упрощенный. PS - SQLite используется исключительно в целях иллюстрации - редко где на практике видел использование этой СУБД кроме как в примерах"
      ]
    },
    {
      "cell_type": "code",
      "metadata": {
        "id": "KDZD1WJAS4g0",
        "colab_type": "code",
        "colab": {}
      },
      "source": [
        "from sqlalchemy import create_engine\n",
        "from sqlalchemy.ext.declarative import declarative_base\n",
        "from sqlalchemy import MetaData\n",
        "from sqlalchemy.orm import sessionmaker\n",
        "from sqlalchemy import Table, Column, Integer, Numeric, String, ForeignKey, DateTime\n",
        "from sqlalchemy import func\n",
        "\n",
        "metadata = MetaData()"
      ],
      "execution_count": 0,
      "outputs": []
    },
    {
      "cell_type": "code",
      "metadata": {
        "id": "VbCJTGJdZeII",
        "colab_type": "code",
        "colab": {}
      },
      "source": [
        "Base = declarative_base()\n",
        "\n",
        "# Опишем нашу таблицу\n",
        "class Titanic(Base):\n",
        "    __tablename__ = 'titanic'\n",
        "\n",
        "    id = Column(Integer, primary_key=True)\n",
        "    sex = Column(String)\n",
        "    pclass = Column(Integer)\n",
        "    age = Column(Integer)\n",
        "    survived = Column(Integer)"
      ],
      "execution_count": 0,
      "outputs": []
    },
    {
      "cell_type": "code",
      "metadata": {
        "id": "vfqnxyn9UMip",
        "colab_type": "code",
        "colab": {}
      },
      "source": [
        "def get_titanic_stat():\n",
        "  # Создадим сессию\n",
        "  Session = sessionmaker(bind=conn)\n",
        "  session = Session()\n",
        "  query = session.query(\n",
        "      Titanic.pclass,\n",
        "      func.sum(Titanic.survived)\n",
        "  ).group_by(Titanic.pclass)\n",
        "\n",
        "  print(query.statement)\n",
        "  \n",
        "  return pd.read_sql(str(query.statement), conn)"
      ],
      "execution_count": 0,
      "outputs": []
    },
    {
      "cell_type": "code",
      "metadata": {
        "id": "ZIeL19wEWCBp",
        "colab_type": "code",
        "outputId": "d3d4a306-c25f-402a-ed45-9e51ace85670",
        "colab": {
          "base_uri": "https://localhost:8080/",
          "height": 52
        }
      },
      "source": [
        "titanic_stat = get_titanic_stat()"
      ],
      "execution_count": 0,
      "outputs": [
        {
          "output_type": "stream",
          "text": [
            "SELECT titanic.pclass, sum(titanic.survived) AS sum_1 \n",
            "FROM titanic GROUP BY titanic.pclass\n"
          ],
          "name": "stdout"
        }
      ]
    },
    {
      "cell_type": "code",
      "metadata": {
        "id": "VJv7VgMecA1m",
        "colab_type": "code",
        "outputId": "cef85429-d3c1-40ae-cc5c-4c7161202a65",
        "colab": {
          "base_uri": "https://localhost:8080/",
          "height": 138
        }
      },
      "source": [
        "titanic_stat.head()"
      ],
      "execution_count": 0,
      "outputs": [
        {
          "output_type": "execute_result",
          "data": {
            "text/html": [
              "<div>\n",
              "<style scoped>\n",
              "    .dataframe tbody tr th:only-of-type {\n",
              "        vertical-align: middle;\n",
              "    }\n",
              "\n",
              "    .dataframe tbody tr th {\n",
              "        vertical-align: top;\n",
              "    }\n",
              "\n",
              "    .dataframe thead th {\n",
              "        text-align: right;\n",
              "    }\n",
              "</style>\n",
              "<table border=\"1\" class=\"dataframe\">\n",
              "  <thead>\n",
              "    <tr style=\"text-align: right;\">\n",
              "      <th></th>\n",
              "      <th>pclass</th>\n",
              "      <th>sum_1</th>\n",
              "    </tr>\n",
              "  </thead>\n",
              "  <tbody>\n",
              "    <tr>\n",
              "      <th>0</th>\n",
              "      <td>1</td>\n",
              "      <td>136</td>\n",
              "    </tr>\n",
              "    <tr>\n",
              "      <th>1</th>\n",
              "      <td>2</td>\n",
              "      <td>87</td>\n",
              "    </tr>\n",
              "    <tr>\n",
              "      <th>2</th>\n",
              "      <td>3</td>\n",
              "      <td>119</td>\n",
              "    </tr>\n",
              "  </tbody>\n",
              "</table>\n",
              "</div>"
            ],
            "text/plain": [
              "   pclass  sum_1\n",
              "0       1    136\n",
              "1       2     87\n",
              "2       3    119"
            ]
          },
          "metadata": {
            "tags": []
          },
          "execution_count": 52
        }
      ]
    },
    {
      "cell_type": "markdown",
      "metadata": {
        "id": "gernqpfIcoec",
        "colab_type": "text"
      },
      "source": [
        "# Вариант №5\n",
        "Использование шаблонизатора на основе Jinja2 - jinjasql"
      ]
    },
    {
      "cell_type": "code",
      "metadata": {
        "id": "00FEOi2nc1pK",
        "colab_type": "code",
        "outputId": "fc3b18a3-d2d2-438d-9a11-fc6f68e316e6",
        "colab": {
          "base_uri": "https://localhost:8080/",
          "height": 69
        }
      },
      "source": [
        "!pip install jinjasql"
      ],
      "execution_count": 0,
      "outputs": [
        {
          "output_type": "stream",
          "text": [
            "Requirement already satisfied: jinjasql in /usr/local/lib/python3.6/dist-packages (0.1.7)\n",
            "Requirement already satisfied: Jinja2>=2.5 in /usr/local/lib/python3.6/dist-packages (from jinjasql) (2.11.2)\n",
            "Requirement already satisfied: MarkupSafe>=0.23 in /usr/local/lib/python3.6/dist-packages (from Jinja2>=2.5->jinjasql) (1.1.1)\n"
          ],
          "name": "stdout"
        }
      ]
    },
    {
      "cell_type": "code",
      "metadata": {
        "id": "ll5j4rbXcynB",
        "colab_type": "code",
        "colab": {}
      },
      "source": [
        "from jinjasql import JinjaSql"
      ],
      "execution_count": 0,
      "outputs": []
    },
    {
      "cell_type": "code",
      "metadata": {
        "id": "bwGhxCQzcnUh",
        "colab_type": "code",
        "colab": {}
      },
      "source": [
        "def get_titanic_stat(age=10):\n",
        "  sql_template = \"\"\"SELECT\n",
        "  sex\n",
        ", AVG(age) AS age_mean\n",
        ", SUM(survived) AS survived\n",
        "FROM titanic\n",
        "WHERE age > {{ age }}\n",
        "GROUP BY sex\n",
        "\"\"\"\n",
        "  j = JinjaSql(param_style=\"named\")\n",
        "  query, params = j.prepare_query(sql_template, {\"age\": age})\n",
        "  return pd.read_sql(query, conn, params=params)"
      ],
      "execution_count": 0,
      "outputs": []
    },
    {
      "cell_type": "code",
      "metadata": {
        "id": "OSrONSv2du51",
        "colab_type": "code",
        "colab": {}
      },
      "source": [
        "titanic_stat = get_titanic_stat(age=10)"
      ],
      "execution_count": 0,
      "outputs": []
    },
    {
      "cell_type": "code",
      "metadata": {
        "id": "v-cOCZF4d-ZF",
        "colab_type": "code",
        "outputId": "1e55d5cd-e18d-431d-dfeb-8814067c6e20",
        "colab": {
          "base_uri": "https://localhost:8080/",
          "height": 108
        }
      },
      "source": [
        "titanic_stat.head()"
      ],
      "execution_count": 0,
      "outputs": [
        {
          "output_type": "execute_result",
          "data": {
            "text/html": [
              "<div>\n",
              "<style scoped>\n",
              "    .dataframe tbody tr th:only-of-type {\n",
              "        vertical-align: middle;\n",
              "    }\n",
              "\n",
              "    .dataframe tbody tr th {\n",
              "        vertical-align: top;\n",
              "    }\n",
              "\n",
              "    .dataframe thead th {\n",
              "        text-align: right;\n",
              "    }\n",
              "</style>\n",
              "<table border=\"1\" class=\"dataframe\">\n",
              "  <thead>\n",
              "    <tr style=\"text-align: right;\">\n",
              "      <th></th>\n",
              "      <th>sex</th>\n",
              "      <th>age_mean</th>\n",
              "      <th>survived</th>\n",
              "    </tr>\n",
              "  </thead>\n",
              "  <tbody>\n",
              "    <tr>\n",
              "      <th>0</th>\n",
              "      <td>female</td>\n",
              "      <td>31.058696</td>\n",
              "      <td>178</td>\n",
              "    </tr>\n",
              "    <tr>\n",
              "      <th>1</th>\n",
              "      <td>male</td>\n",
              "      <td>32.829762</td>\n",
              "      <td>74</td>\n",
              "    </tr>\n",
              "  </tbody>\n",
              "</table>\n",
              "</div>"
            ],
            "text/plain": [
              "      sex   age_mean  survived\n",
              "0  female  31.058696       178\n",
              "1    male  32.829762        74"
            ]
          },
          "metadata": {
            "tags": []
          },
          "execution_count": 57
        }
      ]
    },
    {
      "cell_type": "markdown",
      "metadata": {
        "id": "A67LNhdXemfB",
        "colab_type": "text"
      },
      "source": [
        "Думаю, что для того, чтобы закрыть большую часть ваших потребностей в автоматизации работы в DML (SELECT) в Python - этого хватит. Экспериментируйте."
      ]
    }
  ]
}